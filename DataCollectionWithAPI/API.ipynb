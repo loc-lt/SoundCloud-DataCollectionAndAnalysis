{
 "cells": [
  {
   "cell_type": "markdown",
   "id": "66c33a79",
   "metadata": {},
   "source": [
    "***\n",
    "## Import"
   ]
  },
  {
   "cell_type": "code",
   "execution_count": null,
   "id": "a429f1ec",
   "metadata": {
    "ExecuteTime": {
     "end_time": "2021-11-03T07:37:43.185827Z",
     "start_time": "2021-11-03T07:37:41.903404Z"
    }
   },
   "outputs": [],
   "source": [
    "import requests\n",
    "from bs4 import BeautifulSoup\n",
    "import time\n",
    "import json\n",
    "import re\n",
    "import pandas as pd # Dùng để đọc và hiển thị file csv/tsv\n",
    "from datetime import datetime, timedelta # Dùng để xử lý dữ liệu thời gian\n",
    "\n",
    "import urllib.robotparser # Kiểm tra file robot.txt có được phép crawl không\n",
    "from time import sleep\n",
    "from selenium import webdriver\n",
    "from selenium.webdriver import DesiredCapabilities\n",
    "import json"
   ]
  },
  {
   "cell_type": "markdown",
   "id": "83346aa8",
   "metadata": {},
   "source": [
    "## Lấy client_id của trang https://soundcloud.com/ \n",
    "Ta sẽ gửi requests đến file Chrome log của trang Soundcloud từ đó trích các request get_log trong file Chrome log.\n",
    "Thông qua các kết quả đã được trích, ta sẽ tìm được client id.\n",
    "- Code được tham khảo từ trang: https://gist.github.com/lorey/079c5e178c9c9d3c30ad87df7f70491d#fileselenium_xhr_requests_via_performance_logging-py"
   ]
  },
  {
   "cell_type": "code",
   "execution_count": null,
   "id": "8d443fe3",
   "metadata": {
    "ExecuteTime": {
     "end_time": "2021-11-03T07:37:57.161936Z",
     "start_time": "2021-11-03T07:37:43.188825Z"
    }
   },
   "outputs": [],
   "source": [
    "# Yeu cau request den Chrome log\n",
    "capabilities = DesiredCapabilities.CHROME\n",
    "capabilities[\"loggingPrefs\"] = {\"performance\": \"ALL\"}  # newer: goog:loggingPrefs\n",
    "capabilities[\"goog:loggingPrefs\"] = {\"performance\": \"ALL\"}\n",
    "driver = webdriver.Chrome(\n",
    "    desired_capabilities=capabilities, executable_path=\"chromedriver.exe\"\n",
    ")\n",
    "\n",
    "# Gui request đến trang Soundcloud\n",
    "driver.get(\"https://soundcloud.com\")\n",
    "sleep(5)  # wait for the requests to take place\n",
    "\n",
    "# Trich request ra tu log\n",
    "logs_raw = driver.get_log(\"performance\")\n",
    "logs = [json.loads(lr[\"message\"])[\"message\"] for lr in logs_raw]\n",
    "\n",
    "def log_filter(log_):\n",
    "    return (\n",
    "        # is an actual response\n",
    "        log_[\"method\"] == \"Network.responseReceived\"\n",
    "        # and json\n",
    "        and \"json\" in log_[\"params\"][\"response\"][\"mimeType\"]\n",
    "    )\n",
    "\n",
    "#Tach client_id tu requests nhan duoc\n",
    "for log in filter(log_filter, logs):\n",
    "    resp_url = log[\"params\"][\"response\"][\"url\"]\n",
    "    if 'client_id' in resp_url: \n",
    "        a = resp_url.split('?')[1]\n",
    "        b = a.split('&')[0]\n",
    "        break\n",
    "client_id = b.split('=')[1]\n",
    "\n",
    "#Dong chrome\n",
    "driver.close()"
   ]
  },
  {
   "cell_type": "markdown",
   "id": "641e3dd3",
   "metadata": {},
   "source": [
    "## Các thể loại playlist được tìm : (tổng cộng có 43 thể loại) "
   ]
  },
  {
   "cell_type": "code",
   "execution_count": null,
   "id": "4aade198",
   "metadata": {
    "ExecuteTime": {
     "end_time": "2021-11-03T07:37:57.176923Z",
     "start_time": "2021-11-03T07:37:57.166933Z"
    }
   },
   "outputs": [],
   "source": [
    "genres = ['soundcloud:genres:all-music','soundcloud:genres:all-audio','soundcloud:genres:alternativerock',\n",
    "         'soundcloud:genres:ambient','soundcloud:genres:classical','soundcloud:genres:country',\n",
    "         'soundcloud:genres:danceedm','soundcloud:genres:dancehall','soundcloud:genres:deephouse',\n",
    "         'soundcloud:genres:disco','soundcloud:genres:drumbass','soundcloud:genres:dubstep',\n",
    "         'soundcloud:genres:electronic','soundcloud:genres:folksingersongwriter','soundcloud:genres:hiphoprap',\n",
    "         'soundcloud:genres:house','soundcloud:genres:indie','soundcloud:genres:jazzblues',\n",
    "         'soundcloud:genres:latin','soundcloud:genres:metal','soundcloud:genres:piano','soundcloud:genres:pop',\n",
    "         'soundcloud:genres:rbsoul','soundcloud:genres:reggae','soundcloud:genres:reggaeton',\n",
    "         'soundcloud:genres:rock','soundcloud:genres:soundtrack','soundcloud:genres:techno',\n",
    "         'soundcloud:genres:trance','soundcloud:genres:trap','soundcloud:genres:triphop',\n",
    "         'soundcloud:genres:world','soundcloud:genres:audiobooks','soundcloud:genres:business',\n",
    "         'soundcloud:genres:comedy','soundcloud:genres:entertainment','soundcloud:genres:learning',\n",
    "         'soundcloud:genres:newspolitics','soundcloud:genres:religionspirituality','soundcloud:genres:science',\n",
    "         'soundcloud:genres:sports','soundcloud:genres:storytelling','soundcloud:genres:technology']"
   ]
  },
  {
   "cell_type": "markdown",
   "id": "ee1c3c5c",
   "metadata": {},
   "source": [
    "## Lưu thông tin của playlist:\n",
    "- playlist_link: Đường dẫn của playlist\n",
    "- playlist_title: tên playlist\n",
    "- playlist_genre: thể loại của playlist\n",
    "- playlist_likesCount: số lượt thích của playlist\n",
    "- playlist_repostsCount: số lượt repost của playlist\n",
    "- playlist_createdDate: ngày tạo playlist\n",
    "- playlist_duration: thời gian chạy playlist (đơn vị ms)\n",
    "- playlist_trackCount: số lượng track của playlist\n",
    "- playlist_Id: ID của playlist\n",
    "- playlist_username: tên user của playlist\n",
    "- playlist_userId: ID user của playlist"
   ]
  },
  {
   "cell_type": "code",
   "execution_count": null,
   "id": "f43940b1",
   "metadata": {
    "ExecuteTime": {
     "end_time": "2021-11-03T07:37:57.207894Z",
     "start_time": "2021-11-03T07:37:57.180920Z"
    }
   },
   "outputs": [],
   "source": [
    "playlist_link=[];playlist_title=[];playlist_genre=[];playlist_likesCount=[];playlist_repostsCount=[];playlist_createdDate=[]\n",
    "playlist_duration=[];playlist_username=[];playlist_trackCount=[];playlist_Id =[];playlist_userId=[]"
   ]
  },
  {
   "cell_type": "markdown",
   "id": "75dbb3aa",
   "metadata": {},
   "source": [
    "## Lưu thông tin của user:\n",
    "- user_link: đường dẫn của user              \n",
    "- user_name: tên user\n",
    "- user_createdDate: ngày tạo tài khoản của user\n",
    "- user_followersCount: số lượt follow của user\n",
    "- user_playlistCount: số playlist user đã tạo\n",
    "- user_trackCount: số track user đã tạo\n",
    "- user_likesCount: số lượt thích của user\n",
    "- user_followingsCount: số người user follow\n",
    "- user_Id: ID của user"
   ]
  },
  {
   "cell_type": "code",
   "execution_count": null,
   "id": "f88cd9ed",
   "metadata": {
    "ExecuteTime": {
     "end_time": "2021-11-03T07:37:57.223879Z",
     "start_time": "2021-11-03T07:37:57.211891Z"
    }
   },
   "outputs": [],
   "source": [
    "user_link=[];user_name=[];user_createdDate=[];user_followersCount=[];user_playlistCount=[]\n",
    "user_trackCount=[];user_likesCount=[];user_followingsCount=[];user_Id=[]"
   ]
  },
  {
   "cell_type": "markdown",
   "id": "2bd1cf38",
   "metadata": {},
   "source": [
    "## Lưu thông tin của track:\n",
    "- track_link: đường dẫn của track\n",
    "- track_title: tên track\n",
    "- track_createdDate: ngày tạo track\n",
    "- track_genre: thể loại của track\n",
    "- track_playbackCount: số lượt nghe của track\n",
    "- track_Id: ID của track\n",
    "- track_likesCount: số lượt thích của track\n",
    "- track_repostsCount: số lượt repost của track\n",
    "- track_userId: ID user của track\n",
    "- track_downloadCount: số lượt tải của track\n",
    "- track_playlistlink: đường dẫn playlist mà track thuộc về\n",
    "- track_duration: thời gian chạy track (đơn vị ms)"
   ]
  },
  {
   "cell_type": "code",
   "execution_count": null,
   "id": "820dd3af",
   "metadata": {
    "ExecuteTime": {
     "end_time": "2021-11-03T07:37:57.238865Z",
     "start_time": "2021-11-03T07:37:57.226879Z"
    }
   },
   "outputs": [],
   "source": [
    "track_link=[];track_title=[];track_createdDate=[];track_genre=[];track_playbackCount=[];track_Id=[]\n",
    "track_likesCount=[];track_repostsCount=[];track_userId=[];track_downloadCount=[];track_playlistlink=[];track_duration=[]"
   ]
  },
  {
   "cell_type": "markdown",
   "id": "12dc77b1",
   "metadata": {},
   "source": [
    "## Với mỗi thể loại sẽ có một API riêng để request từ client id đã có được ở trên\n",
    "- Mỗi lần request ta lấy 25 playlist đầu tiên được trả về. Từ kết quả request được, ta chuyển về dạng JSON rồi từ đó lấy thông tin của playlist. \n",
    "- Ứng với mỗi playlist ta sẽ lấy được user của playlist cùng các track thuộc về playlist đó.\n",
    "***\n",
    "## Lưu ý: \n",
    "    - 1 playlist thường chỉ hiện thông tin của từ 2-4 track nên đối với các track liền sau ta lấy id của track rồi từ đó đưa vào đường dẫn api mới để request mới có được thông tin đầy đủ của 5 track đầu mỗi playlist.\n",
    "    - Tương tự, thông tin các user của track cũng sẽ không đầy đủ so với thông tin user của playlist nên ta lấy id của user rồi từ đó đưa vào đường dẫn api mới để request mới có được thông tin đầy đủ của user của mỗi playlist.\n",
    "    - Đôi lúc đường dẫn api sẽ không request được nên ta phải kiểm tra và request lại \n",
    "***\n",
    "Cuối cùng ta sẽ được khoảng 1000 playlist, 5000 track và 6000 user. Tuy nhiên trong quá trình thu thập dữ liệu sẽ có sự trùng lặp nên sau khi qua xử lý có thể sẽ thu về con số thấp hơn"
   ]
  },
  {
   "cell_type": "code",
   "execution_count": null,
   "id": "69dd60e7",
   "metadata": {
    "ExecuteTime": {
     "end_time": "2021-11-03T08:48:43.593658Z",
     "start_time": "2021-11-03T07:37:57.244862Z"
    },
    "scrolled": false
   },
   "outputs": [],
   "source": [
    "#Xet tung the loai trong 43 the loai\n",
    "for genre in genres:\n",
    "    if len(playlist_link) <= 1000:\n",
    "        #Duong dan api voi the loai va client id tuong ung\n",
    "        link = f'https://api-v2.soundcloud.com/search/playlists_without_albums?q={genre[18:]}&variant_ids=&facet=genre&user_id=610739-751556-838406-110722&client_id={client_id}&limit=25&offset=0&linked_partitioning=1&app_version=1635494121&app_locale=en'\n",
    "\n",
    "        r = requests.get(link)\n",
    "        time.sleep(1)\n",
    "        #Kiem tra request da thanh cong hay chua\n",
    "        while(len(r.text) <= 10):\n",
    "            r = requests.get(link)\n",
    "        #Dua ket qua ve dang json\n",
    "        json_data = json.loads(r.text)\n",
    "        playlists = json_data['collection']\n",
    "        \n",
    "        #Xet tung playlist trong 1 ket qua request\n",
    "        for i in range(len(playlists)):\n",
    "            playlist_link.append(playlists[i]['permalink_url'])\n",
    "            playlist_title.append(playlists[i]['title'])\n",
    "            playlist_genre.append(playlists[i]['genre'])\n",
    "            playlist_likesCount.append(playlists[i]['likes_count'])\n",
    "            playlist_repostsCount.append(playlists[i]['reposts_count'])\n",
    "            playlist_createdDate.append(playlists[i]['created_at'])\n",
    "            playlist_duration.append(playlists[i]['duration'])\n",
    "            playlist_trackCount.append(playlists[i]['track_count'])\n",
    "            playlist_username.append(playlists[i]['user']['username'])\n",
    "            playlist_Id.append(playlists[i]['id'])\n",
    "            playlist_userId.append(playlists[i]['user_id'])\n",
    "                \n",
    "            #Voi moi playlist ta cung lay thong tin user cua playlist do\n",
    "            user = playlists[i]['user']\n",
    "            user_link.append(user['permalink_url'])\n",
    "            user_name.append(user['username'])\n",
    "            user_createdDate.append(user['created_at'])\n",
    "            user_followersCount.append(user['followers_count'])\n",
    "            user_playlistCount.append(user['playlist_count'])\n",
    "            user_trackCount.append(user['track_count'])\n",
    "            user_likesCount.append(user['likes_count'])\n",
    "            user_followingsCount.append(user['followings_count'])\n",
    "            user_Id.append(user['id'])\n",
    "                \n",
    "            #Voi moi playlist ta se xet 5 track dau cua playlist\n",
    "            for j in range(len(playlists[i]['tracks'])):\n",
    "                tracks = playlists[i]['tracks'][j]\n",
    "                id_user = ''\n",
    "                if j == 5:\n",
    "                    break\n",
    "                #Neu thong tin cua 1 track chi co id thi ta se request den api cua chinh track do\n",
    "                if len(tracks) == 4 and j <= 4:\n",
    "                    id_track = tracks['id']\n",
    "                    link_track = f'https://api-v2.soundcloud.com/tracks/{id_track}?client_id=YxQYlFPNletSMSZ4b8Svv9FTYgbNbM79'\n",
    "                    t = requests.get(link_track)\n",
    "                    while(len(t.text) <= 10):\n",
    "                        t = requests.get(link_track)\n",
    "                    tracks = json.loads(t.text)\n",
    "                        \n",
    "                track_playlistlink.append(playlists[i]['permalink_url'])\n",
    "                track_link.append(tracks['permalink_url'])\n",
    "                track_title.append(tracks['title'])\n",
    "                track_createdDate.append(tracks['created_at'])\n",
    "                track_genre.append(tracks['genre'])\n",
    "                track_playbackCount.append(tracks['playback_count'])\n",
    "                track_Id.append(tracks['id'])\n",
    "                track_likesCount.append(tracks['likes_count'])\n",
    "                track_repostsCount.append(tracks['reposts_count'])\n",
    "                track_userId.append(tracks['user_id'])\n",
    "                track_downloadCount.append(tracks['download_count'])\n",
    "                track_duration.append(tracks['duration'])\n",
    "                    \n",
    "                #Vi thong tin user cua cac track trong playlist khong day du nen ta se tiep tuc request den api cua user do\n",
    "                id_user = tracks['user']['id'] \n",
    "                link_user = f'https://api-v2.soundcloud.com/users/{id_user}?client_id={client_id}'\n",
    "                u = requests.get(link_user)\n",
    "                while(len(u.text) <= 10):\n",
    "                    u = requests.get(link_user)\n",
    "                user_info = json.loads(u.text)\n",
    "                user_link.append(user_info['permalink_url'])\n",
    "                user_name.append(user_info['username'])\n",
    "                user_createdDate.append(user_info['created_at'])\n",
    "                user_followersCount.append(user_info['followers_count'])\n",
    "                user_playlistCount.append(user_info['playlist_count'])\n",
    "                user_trackCount.append(user_info['track_count'])\n",
    "                user_likesCount.append(user_info['likes_count'])\n",
    "                user_followingsCount.append(user_info['followings_count'])\n",
    "                user_Id.append(user_info['id'])\n",
    "    else:\n",
    "        break"
   ]
  },
  {
   "cell_type": "markdown",
   "id": "a152c32f",
   "metadata": {},
   "source": [
    "## Chuyển các list về dạng dataframe để dễ xử lý"
   ]
  },
  {
   "cell_type": "code",
   "execution_count": null,
   "id": "c2fffdcd",
   "metadata": {
    "ExecuteTime": {
     "end_time": "2021-11-03T09:12:20.750608Z",
     "start_time": "2021-11-03T09:12:20.567777Z"
    }
   },
   "outputs": [],
   "source": [
    "df_track = pd.DataFrame(zip(track_link,track_title,track_createdDate,track_genre,track_playbackCount,track_Id,track_likesCount,\n",
    "                            track_repostsCount,track_userId,track_downloadCount,track_playlistlink,track_duration),\n",
    "                        columns = ['Track Link','Title','Created Date','Genre','Playback Count','ID', 'Likes Count',\n",
    "                                   'Reposts Count','User ID','Downdload Count','Playlist Link','Duration'])    \n",
    "df_user = pd.DataFrame(zip(user_link,user_name,user_createdDate,user_followersCount,user_playlistCount,user_trackCount,\n",
    "                           user_likesCount,user_followingsCount,user_Id),\n",
    "                       columns = ['User Link','Name','Created Date','Followers Count','Playlist Count','Track Count',\n",
    "                                  'Likes Count','Followings Count','User ID']) \n",
    "df_playlist = pd.DataFrame(zip(playlist_link,playlist_title,playlist_genre,playlist_likesCount,playlist_repostsCount,\n",
    "                               playlist_createdDate,playlist_duration,playlist_trackCount,\n",
    "                               playlist_Id,playlist_username,playlist_userId),\n",
    "                           columns = ['Playlist Link','Title','Genre','Likes Count','Reposts Count',\n",
    "                                      'Created Date','Duration','Track Count','ID','User Name','User ID'])"
   ]
  },
  {
   "cell_type": "markdown",
   "id": "8a079445",
   "metadata": {},
   "source": [
    "## Loại bỏ các link của track và link của user bị trùng lặp \n",
    "- Nếu 2 kết quả trùng nhau ta sẽ giữ lại giá trị được thu thập trước\n",
    "- Sau khi đã loại bỏ, ta cần đánh số các index lại"
   ]
  },
  {
   "cell_type": "code",
   "execution_count": null,
   "id": "afca0aa7",
   "metadata": {
    "ExecuteTime": {
     "end_time": "2021-11-03T09:12:23.782669Z",
     "start_time": "2021-11-03T09:12:23.743704Z"
    }
   },
   "outputs": [],
   "source": [
    "#Loai bo trung lap\n",
    "df_playlist = df_playlist.drop_duplicates(subset='Playlist Link',keep='first')\n",
    "df_track = df_track.drop_duplicates(subset='Track Link',keep='first')\n",
    "df_user = df_user.drop_duplicates(subset='User Link',keep='first')\n",
    "#Reset index\n",
    "df_playlist = df_playlist.reset_index(drop=True)\n",
    "df_track = df_track.reset_index(drop=True)\n",
    "df_user = df_user.reset_index(drop=True)"
   ]
  },
  {
   "cell_type": "markdown",
   "id": "4d722c32",
   "metadata": {},
   "source": [
    "## Số lượng các playlist, track và user thu thập được : "
   ]
  },
  {
   "cell_type": "code",
   "execution_count": null,
   "id": "5e12ec32",
   "metadata": {
    "ExecuteTime": {
     "end_time": "2021-11-03T09:12:25.752703Z",
     "start_time": "2021-11-03T09:12:25.733721Z"
    }
   },
   "outputs": [],
   "source": [
    "print(f'So luong playlist: {len(df_playlist)}\\nSo luong track: {len(df_track)}\\nSo luong user: {len(df_user)}')"
   ]
  },
  {
   "cell_type": "markdown",
   "id": "a5a9991b",
   "metadata": {},
   "source": [
    "## Vì 1 playlist có thể có nhiều track nên với mỗi playlist ta lưu 1 string danh sách các id của track. Khi sử dụng chỉ cần tách các số trong string ra là có một danh sách các track của 1 playlist\n",
    "    - Với mỗi link playlist, ta sẽ so sánh từng link playlist mà 1 track thuộc về. Nếu 2 link như nhau thì ta sẽ thêm id của track vào chuỗi danh sách track của playlist, các id được ngăn cách bởi dấu \";\"\n",
    "    - Đôi lúc sẽ có 1 vài playlist không có track nào trong kết quả là vì có trường hợp 1 playlist chỉ có từ 1-2 track \n",
    "    nhưng sau khi lọc các track trùng lặp thì không còn track nào hợp lệ."
   ]
  },
  {
   "cell_type": "code",
   "execution_count": null,
   "id": "5ed0c5d5",
   "metadata": {
    "ExecuteTime": {
     "end_time": "2021-11-03T10:50:46.808058Z",
     "start_time": "2021-11-03T10:50:46.579268Z"
    }
   },
   "outputs": [],
   "source": [
    "ids = [] \n",
    "for playlist in df_playlist['Playlist Link']:\n",
    "    list_id = []\n",
    "    for id,link in zip(df_track['ID'],df_track['Playlist Link']):\n",
    "        if link == playlist:    #Neu link playlist cua track trung voi link cua playlist dang so sanh thi them vao list\n",
    "            list_id.append(id)\n",
    "    list_id_str = ''\n",
    "    for i in range(len(list_id)):\n",
    "        list_id_str += str(list_id[i]) # Chuyen list id thanh mot chuoi danh sach track id cua playlist\n",
    "        if i != len(list_id) - 1:   #Cac id duoc ngan cach boi dau phay tru id cuoi\n",
    "            list_id_str += ';'\n",
    "    ids.append(list_id_str)\n",
    "df_playlist['Tracks'] = ids"
   ]
  },
  {
   "cell_type": "markdown",
   "id": "27fa6658",
   "metadata": {},
   "source": [
    "## Lưu các thông tin của playlist, user và track vào các file csv để tiện tra cứu"
   ]
  },
  {
   "cell_type": "code",
   "execution_count": null,
   "id": "7fd6058a",
   "metadata": {
    "ExecuteTime": {
     "end_time": "2021-11-03T09:15:01.170691Z",
     "start_time": "2021-11-03T09:15:00.997857Z"
    }
   },
   "outputs": [],
   "source": [
    "df_playlist.to_csv('./API/playlist.csv')\n",
    "df_track.to_csv('./API/track.csv')\n",
    "df_user.to_csv('./API/user.csv')"
   ]
  },
  {
   "cell_type": "code",
   "execution_count": null,
   "id": "4e003b87",
   "metadata": {},
   "outputs": [],
   "source": []
  }
 ],
 "metadata": {
  "interpreter": {
   "hash": "339a0aaa194b66c2b9acfe0a9ce76c21e0397e275c8d0752ace345b67f9ea39d"
  },
  "kernelspec": {
   "display_name": "Python 3.9.6 64-bit",
   "name": "python3"
  },
  "language_info": {
   "codemirror_mode": {
    "name": "ipython",
    "version": 3
   },
   "file_extension": ".py",
   "mimetype": "text/x-python",
   "name": "python",
   "nbconvert_exporter": "python",
   "pygments_lexer": "ipython3",
   "version": "3.9.6"
  }
 },
 "nbformat": 4,
 "nbformat_minor": 5
}
